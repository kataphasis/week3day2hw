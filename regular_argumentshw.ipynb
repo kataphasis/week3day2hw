{
 "cells": [
  {
   "cell_type": "code",
   "execution_count": 24,
   "metadata": {},
   "outputs": [
    {
     "data": {
      "text/plain": [
       "[('Hawkins, Derek',\n",
       "  'derek@codingtemple.com',\n",
       "  '(555) 555-5555',\n",
       "  'Teacher, Coding Temple',\n",
       "  '@derekhawkins'),\n",
       " ('Milliken, Connor',\n",
       "  'connor@codingtemple.com',\n",
       "  '(555) 555-5554',\n",
       "  'Teacher, Coding Temple',\n",
       "  ''),\n",
       " ('Johnson, Joe', 'joejohnson@codingtemple.com', '', 'Carter, Joel', ''),\n",
       " (', Tim', 'tim@killerrabbit.com', '', 'Enchanter, Killer Rabbit Cave', ''),\n",
       " ('Butz, Ryan',\n",
       "  'ryanb@codingtemple.com',\n",
       "  '(555) 555-5543',\n",
       "  'CEO, Coding Temple',\n",
       "  '@ryanbutz'),\n",
       " ('Doctor, The',\n",
       "  'doctor+companion@tardis.co.uk',\n",
       "  '',\n",
       "  'Time Lord, Gallifrey',\n",
       "  ''),\n",
       " ('Exampleson, Example',\n",
       "  'me@example.com',\n",
       "  '555-555-5552',\n",
       "  'Example, Example',\n",
       "  ''),\n",
       " ('Obama, Barack',\n",
       "  'president.44@us.gov',\n",
       "  '555 555-5551',\n",
       "  'President, United States of America',\n",
       "  '@potus44'),\n",
       " ('Patel, Ripal',\n",
       "  'ripalp@codingtemple.com',\n",
       "  '(555) 555-5553',\n",
       "  'Teacher, Coding Temple',\n",
       "  '@ripalp'),\n",
       " ('Fernández de la Vega Sanz, María Teresa',\n",
       "  'mtfvs@spain.gov',\n",
       "  '',\n",
       "  'First Deputy Prime Minister, Spanish',\n",
       "  '')]"
      ]
     },
     "execution_count": 24,
     "metadata": {},
     "output_type": "execute_result"
    }
   ],
   "source": [
    "import re\n",
    "file = open('./names.txt', encoding='utf-8')\n",
    "data = file.read()\n",
    "file.close()\n",
    "info = re.findall(r'''\n",
    "    ([\\w+ \\w+]*, [\\w \\w]*)\n",
    "     \\s+\n",
    "     ([\\d\\w\\'-+.]+@[-.\\w\\d]+)\n",
    "     \\s+\n",
    "     (\\+?\\d?\\s?\\(?\\d{3}\\)?\\s?-?\\d{3}-\\d{4})?\n",
    "     \\s+\n",
    "     ([\\w+ \\w+]*, \\s[ \\w]+)?\n",
    "     \\s+\n",
    "     (@[\\d\\w]+)?\n",
    " ''', data, re.X)\n",
    "info"
   ]
  }
 ],
 "metadata": {
  "kernelspec": {
   "display_name": "Python 3.10.4 64-bit",
   "language": "python",
   "name": "python3"
  },
  "language_info": {
   "codemirror_mode": {
    "name": "ipython",
    "version": 3
   },
   "file_extension": ".py",
   "mimetype": "text/x-python",
   "name": "python",
   "nbconvert_exporter": "python",
   "pygments_lexer": "ipython3",
   "version": "3.10.4"
  },
  "orig_nbformat": 4,
  "vscode": {
   "interpreter": {
    "hash": "9d84da9f3e296a0993c8024a5c93c9b758f410094d2f367ded33dfdf220b6b9c"
   }
  }
 },
 "nbformat": 4,
 "nbformat_minor": 2
}
